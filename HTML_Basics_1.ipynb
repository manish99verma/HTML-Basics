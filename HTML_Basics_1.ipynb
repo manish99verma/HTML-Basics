{
  "nbformat": 4,
  "nbformat_minor": 0,
  "metadata": {
    "colab": {
      "provenance": []
    },
    "kernelspec": {
      "name": "python3",
      "display_name": "Python 3"
    },
    "language_info": {
      "name": "python"
    }
  },
  "cells": [
    {
      "cell_type": "markdown",
      "source": [
        "1. Write a simple program in HTML  that displays the heading \"HTML defines the content and structure of your website” on the web browser?"
      ],
      "metadata": {
        "id": "_0JTkkARYtzC"
      }
    },
    {
      "cell_type": "code",
      "source": [
        "<!DOCTYPE html>\n",
        "<html lang=\"en\">\n",
        "  <head>\n",
        "    <meta charset=\"UTF-8\" />\n",
        "    <meta name=\"viewport\" content=\"width=device-width, initial-scale=1.0\" />\n",
        "    <title>Que 1</title>\n",
        "  </head>\n",
        "  <body>\n",
        "    <h1>HTML defines the content and structure of your website</h1>\n",
        "  </body>\n",
        "</html>"
      ],
      "metadata": {
        "id": "tPMhqBlXZiaA"
      },
      "execution_count": null,
      "outputs": []
    },
    {
      "cell_type": "markdown",
      "source": [
        "2. Explain the purpose of comments in HTML and provide an example of how to use comments in an HTML document?\n",
        "- Comments in HTML are used to add notes or explanations in the code without affecting how the webpage is displayed. They help developers understand the code, make it more readable, and provide reminders for future modifications. Browsers ignore comments, so they do not appear on the webpage."
      ],
      "metadata": {
        "id": "ocbjGCzqZs_L"
      }
    },
    {
      "cell_type": "code",
      "source": [
        "# Example\n",
        "<!DOCTYPE html>\n",
        "<html lang=\"en\">\n",
        "<head>\n",
        "    <meta charset=\"UTF-8\">\n",
        "    <meta name=\"viewport\" content=\"width=device-width, initial-scale=1.0\">\n",
        "    <title>HTML Comments Example</title>\n",
        "</head>\n",
        "<body>\n",
        "\n",
        "    <!-- This is a heading -->\n",
        "    <h1>Welcome to My Website</h1>\n",
        "\n",
        "    <!-- This is second heading -->\n",
        "    <h2>This website contains useful information.</h2>\n",
        "\n",
        "</body>\n",
        "</html>"
      ],
      "metadata": {
        "id": "FM7knJgXahAX"
      },
      "execution_count": null,
      "outputs": []
    },
    {
      "cell_type": "markdown",
      "source": [
        "3. Write an HTML program that includes a heading, a paragraph of text, a horizontal line, and a line break. Arrange these elements to create a simple web page layout."
      ],
      "metadata": {
        "id": "vdX-znUeavlh"
      }
    },
    {
      "cell_type": "code",
      "source": [
        "<!DOCTYPE html>\n",
        "<html lang=\"en\">\n",
        "  <head>\n",
        "    <meta charset=\"UTF-8\" />\n",
        "    <meta name=\"viewport\" content=\"width=device-width, initial-scale=1.0\" />\n",
        "    <title>Que 3</title>\n",
        "  </head>\n",
        "  <body>\n",
        "    <main>\n",
        "      <h1>This is a Heading</h1>\n",
        "      <p>This is paragraph in html. Used to display text.</p>\n",
        "      <hr />\n",
        "      <p>Hello How are you? <br />I am fine.</p>\n",
        "    </main>\n",
        "  </body>\n",
        "</html>"
      ],
      "metadata": {
        "id": "CpDXWGCZblYf"
      },
      "execution_count": null,
      "outputs": []
    },
    {
      "cell_type": "markdown",
      "source": [
        "4. Write a short note on Tag and element with an example?"
      ],
      "metadata": {
        "id": "frI49bZrbqk8"
      }
    },
    {
      "cell_type": "code",
      "source": [
        "'''\n",
        "Tag: A tag is a part of HTML syntax used to define elements on a webpage. It is enclosed in angle brackets <>. Tags can be opening tags e.g., <p> and closing tags e.g., </p>. Some tags, like <br> and <img>, are self-closing.\n",
        "\n",
        "Element: An element consists of an opening tag, content (if any), and a closing tag. It represents a part of the webpage, like a paragraph, heading, or image.\n",
        "'''\n",
        "\n",
        "<!DOCTYPE html>\n",
        "<html lang=\"en\">\n",
        "  <head>\n",
        "    <meta charset=\"UTF-8\" />\n",
        "    <meta name=\"viewport\" content=\"width=device-width, initial-scale=1.0\" />\n",
        "    <title>Que 4</title>\n",
        "  </head>\n",
        "  <body>\n",
        "    <main>\n",
        "      <h1>This is a H1 Tag</h1>\n",
        "      <p>This is a P Tag</p>\n",
        "      <hr />\n",
        "      <p>This is also a p tag? <br />with line break.</p>\n",
        "    </main>\n",
        "  </body>\n",
        "</html>\n"
      ],
      "metadata": {
        "id": "64w2voR_djXF"
      },
      "execution_count": null,
      "outputs": []
    },
    {
      "cell_type": "markdown",
      "source": [
        "5. What is the DOCTYPE Declaration in HTML?\n",
        "- The <!DOCTYPE> declaration in HTML tells the web browser which version of HTML the document is using. It helps the browser render the page correctly. The DOCTYPE must be the first line in an HTML document.\n",
        "\n"
      ],
      "metadata": {
        "id": "_ONxJX3leCFn"
      }
    }
  ]
}